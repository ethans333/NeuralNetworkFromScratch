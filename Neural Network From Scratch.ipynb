{
 "cells": [
  {
   "cell_type": "code",
   "execution_count": 1,
   "id": "1b4061a8",
   "metadata": {},
   "outputs": [],
   "source": [
    "import numpy as np\n",
    "import tensorflow as tf\n",
    "from tensorflow import keras\n",
    "import pandas as pd\n",
    "import matplotlib.pyplot as plt\n",
    "%matplotlib inline"
   ]
  },
  {
   "cell_type": "code",
   "execution_count": 2,
   "id": "4cf0ac84",
   "metadata": {},
   "outputs": [
    {
     "data": {
      "text/html": [
       "<div>\n",
       "<style scoped>\n",
       "    .dataframe tbody tr th:only-of-type {\n",
       "        vertical-align: middle;\n",
       "    }\n",
       "\n",
       "    .dataframe tbody tr th {\n",
       "        vertical-align: top;\n",
       "    }\n",
       "\n",
       "    .dataframe thead th {\n",
       "        text-align: right;\n",
       "    }\n",
       "</style>\n",
       "<table border=\"1\" class=\"dataframe\">\n",
       "  <thead>\n",
       "    <tr style=\"text-align: right;\">\n",
       "      <th></th>\n",
       "      <th>age</th>\n",
       "      <th>affordibility</th>\n",
       "      <th>bought_insurance</th>\n",
       "    </tr>\n",
       "  </thead>\n",
       "  <tbody>\n",
       "    <tr>\n",
       "      <th>0</th>\n",
       "      <td>22</td>\n",
       "      <td>1</td>\n",
       "      <td>0</td>\n",
       "    </tr>\n",
       "    <tr>\n",
       "      <th>1</th>\n",
       "      <td>25</td>\n",
       "      <td>0</td>\n",
       "      <td>0</td>\n",
       "    </tr>\n",
       "    <tr>\n",
       "      <th>2</th>\n",
       "      <td>47</td>\n",
       "      <td>1</td>\n",
       "      <td>1</td>\n",
       "    </tr>\n",
       "    <tr>\n",
       "      <th>3</th>\n",
       "      <td>52</td>\n",
       "      <td>0</td>\n",
       "      <td>0</td>\n",
       "    </tr>\n",
       "    <tr>\n",
       "      <th>4</th>\n",
       "      <td>46</td>\n",
       "      <td>1</td>\n",
       "      <td>1</td>\n",
       "    </tr>\n",
       "  </tbody>\n",
       "</table>\n",
       "</div>"
      ],
      "text/plain": [
       "   age  affordibility  bought_insurance\n",
       "0   22              1                 0\n",
       "1   25              0                 0\n",
       "2   47              1                 1\n",
       "3   52              0                 0\n",
       "4   46              1                 1"
      ]
     },
     "execution_count": 2,
     "metadata": {},
     "output_type": "execute_result"
    }
   ],
   "source": [
    "df = pd.read_csv(\"./Data Files/insurance_data2.csv\")\n",
    "df.head()"
   ]
  },
  {
   "cell_type": "code",
   "execution_count": 3,
   "id": "82ea1e2e",
   "metadata": {},
   "outputs": [],
   "source": [
    "from sklearn.model_selection import train_test_split\n",
    "X = df[['age', 'affordibility']]\n",
    "y = df.bought_insurance\n",
    "X_train, X_test, y_train, y_test = train_test_split(X, y, train_size=0.8, random_state=25)"
   ]
  },
  {
   "cell_type": "code",
   "execution_count": 4,
   "id": "2de2f710",
   "metadata": {},
   "outputs": [
    {
     "data": {
      "text/html": [
       "<div>\n",
       "<style scoped>\n",
       "    .dataframe tbody tr th:only-of-type {\n",
       "        vertical-align: middle;\n",
       "    }\n",
       "\n",
       "    .dataframe tbody tr th {\n",
       "        vertical-align: top;\n",
       "    }\n",
       "\n",
       "    .dataframe thead th {\n",
       "        text-align: right;\n",
       "    }\n",
       "</style>\n",
       "<table border=\"1\" class=\"dataframe\">\n",
       "  <thead>\n",
       "    <tr style=\"text-align: right;\">\n",
       "      <th></th>\n",
       "      <th>age</th>\n",
       "      <th>affordibility</th>\n",
       "    </tr>\n",
       "  </thead>\n",
       "  <tbody>\n",
       "    <tr>\n",
       "      <th>2</th>\n",
       "      <td>0.47</td>\n",
       "      <td>1</td>\n",
       "    </tr>\n",
       "    <tr>\n",
       "      <th>10</th>\n",
       "      <td>0.18</td>\n",
       "      <td>1</td>\n",
       "    </tr>\n",
       "    <tr>\n",
       "      <th>21</th>\n",
       "      <td>0.26</td>\n",
       "      <td>0</td>\n",
       "    </tr>\n",
       "    <tr>\n",
       "      <th>11</th>\n",
       "      <td>0.28</td>\n",
       "      <td>1</td>\n",
       "    </tr>\n",
       "    <tr>\n",
       "      <th>14</th>\n",
       "      <td>0.49</td>\n",
       "      <td>1</td>\n",
       "    </tr>\n",
       "    <tr>\n",
       "      <th>9</th>\n",
       "      <td>0.61</td>\n",
       "      <td>1</td>\n",
       "    </tr>\n",
       "  </tbody>\n",
       "</table>\n",
       "</div>"
      ],
      "text/plain": [
       "     age  affordibility\n",
       "2   0.47              1\n",
       "10  0.18              1\n",
       "21  0.26              0\n",
       "11  0.28              1\n",
       "14  0.49              1\n",
       "9   0.61              1"
      ]
     },
     "execution_count": 4,
     "metadata": {},
     "output_type": "execute_result"
    }
   ],
   "source": [
    "X_train_scaled = X_train.copy()\n",
    "X_train_scaled.age = X_train_scaled.age / 100\n",
    "\n",
    "X_test_scaled = X_test.copy()\n",
    "X_test_scaled.age = X_test_scaled.age / 100\n",
    "\n",
    "X_test_scaled"
   ]
  },
  {
   "cell_type": "code",
   "execution_count": 5,
   "id": "6326a43e",
   "metadata": {},
   "outputs": [
    {
     "data": {
      "text/plain": [
       "<keras.callbacks.History at 0x1bf12f15220>"
      ]
     },
     "execution_count": 5,
     "metadata": {},
     "output_type": "execute_result"
    }
   ],
   "source": [
    "model = keras.Sequential([\n",
    "    keras.layers.Dense(\n",
    "        1, \n",
    "        input_shape=(2, ), \n",
    "        activation='sigmoid',\n",
    "        kernel_initializer='ones',\n",
    "        bias_initializer='zeros'\n",
    "    )\n",
    "])\n",
    "\n",
    "model.compile(optimizer='adam',\n",
    "             loss='binary_crossentropy',\n",
    "             metrics=['accuracy'])\n",
    "\n",
    "model.fit(X_train_scaled, y_train, epochs=5000, verbose=0)"
   ]
  },
  {
   "cell_type": "code",
   "execution_count": 6,
   "id": "fee1e9ca",
   "metadata": {},
   "outputs": [
    {
     "name": "stdout",
     "output_type": "stream",
     "text": [
      "1/1 [==============================] - 0s 113ms/step\n"
     ]
    },
    {
     "data": {
      "text/plain": [
       "array([[0.7054848 ],\n",
       "       [0.3556957 ],\n",
       "       [0.16827832],\n",
       "       [0.47801185],\n",
       "       [0.7260696 ],\n",
       "       [0.8294983 ]], dtype=float32)"
      ]
     },
     "execution_count": 6,
     "metadata": {},
     "output_type": "execute_result"
    }
   ],
   "source": [
    "model.predict(X_test_scaled)"
   ]
  },
  {
   "cell_type": "code",
   "execution_count": 7,
   "id": "cec28a53",
   "metadata": {},
   "outputs": [
    {
     "data": {
      "text/plain": [
       "(array([[5.060863 ],\n",
       "        [1.4086521]], dtype=float32),\n",
       " array([-2.913703], dtype=float32))"
      ]
     },
     "execution_count": 7,
     "metadata": {},
     "output_type": "execute_result"
    }
   ],
   "source": [
    "coef, intercept = model.get_weights()\n",
    "coef, intercept"
   ]
  },
  {
   "cell_type": "code",
   "execution_count": 8,
   "id": "a94c2143",
   "metadata": {},
   "outputs": [],
   "source": [
    "def sigmoid(x):\n",
    "    import math\n",
    "    return 1 / (1 + math.exp(-x))"
   ]
  },
  {
   "cell_type": "code",
   "execution_count": 9,
   "id": "7d5dd6ee",
   "metadata": {},
   "outputs": [],
   "source": [
    "def log_loss(y_true, y_predicted):\n",
    "    epsilon = 1e-15\n",
    "    y_predicted_new = [max(i,epsilon) for i in y_predicted]\n",
    "    y_predicted_new = [min(i,1-epsilon) for i in y_predicted_new]\n",
    "    y_predicted_new = np.array(y_predicted_new)\n",
    "    return -np.mean(y_true*np.log(y_predicted_new)+(1-y_true)*np.log(1-y_predicted_new))"
   ]
  },
  {
   "cell_type": "code",
   "execution_count": 10,
   "id": "67d46d71",
   "metadata": {},
   "outputs": [],
   "source": [
    "def sigmoid_numpy(X):\n",
    "   return 1/(1+np.exp(-X))"
   ]
  },
  {
   "cell_type": "code",
   "execution_count": 11,
   "id": "666fe8e2",
   "metadata": {},
   "outputs": [],
   "source": [
    "class NeuralNetwork:\n",
    "    def __init__(self):\n",
    "        self.weights = []\n",
    "        self.bias = 0\n",
    "    \n",
    "    def fit(self, X, y, epochs, loss_threshold):\n",
    "        self.weights, self.bias = self.gradient_descent(X, y, epochs, loss_threshold)\n",
    "        \n",
    "    def predict(self, X):\n",
    "        \n",
    "        X = [X[X.columns[i]] for i in range(len(X.columns))]\n",
    "        \n",
    "        # weighted sum\n",
    "        weighted_sum = 0\n",
    "        \n",
    "        for i in range(len(X)):\n",
    "            weighted_sum += self.weights[i]*X[i]\n",
    "                \n",
    "        weighted_sum += self.bias\n",
    "            \n",
    "        return sigmoid_numpy(weighted_sum)\n",
    "        \n",
    "    \n",
    "    def gradient_descent(self, X, y, epochs, loss_threshold):\n",
    "        X = [X[X.columns[i]] for i in range(len(X.columns))]\n",
    "        n = len(X)\n",
    "        w = [1 for i in range(n)]\n",
    "        b = 0\n",
    "        r = 0.5\n",
    "        \n",
    "        for i in range(epochs):\n",
    "            # weighted sum\n",
    "            weighted_sum = 0\n",
    "            \n",
    "            for j in range(n):\n",
    "                weighted_sum += w[j]*X[j]\n",
    "                \n",
    "            weighted_sum += b\n",
    "            \n",
    "            # y hat\n",
    "            y_hat = sigmoid_numpy(weighted_sum)\n",
    "            \n",
    "            # loss\n",
    "            loss = log_loss(y, y_hat)\n",
    "            \n",
    "            # derivatives\n",
    "            wd = [(1/len(X[j]))*np.dot(np.transpose(X[j]), (y_hat-y)) for j in range(n)]\n",
    "            bd = np.mean(y_hat-y)\n",
    "            \n",
    "            # reassign\n",
    "            w = [w[j] - r * wd[j] for j in range(n)]\n",
    "            b = b - r * bd\n",
    "            \n",
    "            # print & break\n",
    "            \n",
    "            if i%50 == 0:\n",
    "                print(f'Epoch:{i}, loss:{loss}')\n",
    "            \n",
    "            if loss<=loss_threshold:\n",
    "                print(f'Epoch:{i}, loss:{loss}')\n",
    "                break\n",
    "        \n",
    "        return  w, b\n",
    "            "
   ]
  },
  {
   "cell_type": "code",
   "execution_count": 12,
   "id": "e755e0d5",
   "metadata": {},
   "outputs": [
    {
     "name": "stdout",
     "output_type": "stream",
     "text": [
      "Epoch:0, loss:0.7113403233723417\n",
      "Epoch:50, loss:0.5675865113475955\n",
      "Epoch:100, loss:0.5390680417774752\n",
      "Epoch:150, loss:0.5176462164249293\n",
      "Epoch:200, loss:0.5005011269691375\n",
      "Epoch:250, loss:0.48654089537617085\n",
      "Epoch:300, loss:0.4750814640632793\n",
      "Epoch:350, loss:0.46561475306999006\n",
      "Epoch:366, loss:0.46293944095888917\n"
     ]
    }
   ],
   "source": [
    "scratch_model = NeuralNetwork()\n",
    "scratch_model.fit(X_train_scaled, y_train, epochs=500, loss_threshold=0.4631)"
   ]
  },
  {
   "cell_type": "code",
   "execution_count": 13,
   "id": "ff65e8ee",
   "metadata": {},
   "outputs": [
    {
     "data": {
      "text/html": [
       "<div>\n",
       "<style scoped>\n",
       "    .dataframe tbody tr th:only-of-type {\n",
       "        vertical-align: middle;\n",
       "    }\n",
       "\n",
       "    .dataframe tbody tr th {\n",
       "        vertical-align: top;\n",
       "    }\n",
       "\n",
       "    .dataframe thead th {\n",
       "        text-align: right;\n",
       "    }\n",
       "</style>\n",
       "<table border=\"1\" class=\"dataframe\">\n",
       "  <thead>\n",
       "    <tr style=\"text-align: right;\">\n",
       "      <th></th>\n",
       "      <th>scratch weights</th>\n",
       "      <th>tensorflow weights</th>\n",
       "    </tr>\n",
       "  </thead>\n",
       "  <tbody>\n",
       "    <tr>\n",
       "      <th>0</th>\n",
       "      <td>5.051048</td>\n",
       "      <td>5.060863</td>\n",
       "    </tr>\n",
       "    <tr>\n",
       "      <th>1</th>\n",
       "      <td>1.456979</td>\n",
       "      <td>1.408652</td>\n",
       "    </tr>\n",
       "  </tbody>\n",
       "</table>\n",
       "</div>"
      ],
      "text/plain": [
       "   scratch weights  tensorflow weights\n",
       "0         5.051048            5.060863\n",
       "1         1.456979            1.408652"
      ]
     },
     "execution_count": 13,
     "metadata": {},
     "output_type": "execute_result"
    }
   ],
   "source": [
    "solved_weights = pd.DataFrame(data={\n",
    "    'scratch weights': scratch_model.weights,\n",
    "    'tensorflow weights': [coef[i][0] for i in range(len(coef))]\n",
    "})\n",
    "solved_weights"
   ]
  },
  {
   "cell_type": "code",
   "execution_count": 14,
   "id": "6d7b3327",
   "metadata": {},
   "outputs": [
    {
     "data": {
      "text/html": [
       "<div>\n",
       "<style scoped>\n",
       "    .dataframe tbody tr th:only-of-type {\n",
       "        vertical-align: middle;\n",
       "    }\n",
       "\n",
       "    .dataframe tbody tr th {\n",
       "        vertical-align: top;\n",
       "    }\n",
       "\n",
       "    .dataframe thead th {\n",
       "        text-align: right;\n",
       "    }\n",
       "</style>\n",
       "<table border=\"1\" class=\"dataframe\">\n",
       "  <thead>\n",
       "    <tr style=\"text-align: right;\">\n",
       "      <th></th>\n",
       "      <th>scratch bias</th>\n",
       "      <th>tensorflow bias</th>\n",
       "    </tr>\n",
       "  </thead>\n",
       "  <tbody>\n",
       "    <tr>\n",
       "      <th>0</th>\n",
       "      <td>-2.959653</td>\n",
       "      <td>-2.913703</td>\n",
       "    </tr>\n",
       "  </tbody>\n",
       "</table>\n",
       "</div>"
      ],
      "text/plain": [
       "   scratch bias  tensorflow bias\n",
       "0     -2.959653        -2.913703"
      ]
     },
     "execution_count": 14,
     "metadata": {},
     "output_type": "execute_result"
    }
   ],
   "source": [
    "solved_biases = pd.DataFrame(data={\n",
    "    'scratch bias': scratch_model.bias,\n",
    "    'tensorflow bias': intercept\n",
    "})\n",
    "solved_biases"
   ]
  },
  {
   "cell_type": "code",
   "execution_count": 15,
   "id": "010a4734",
   "metadata": {},
   "outputs": [],
   "source": [
    "scratch_predicted = scratch_model.predict(X_test_scaled)"
   ]
  },
  {
   "cell_type": "code",
   "execution_count": 16,
   "id": "1097fc4e",
   "metadata": {},
   "outputs": [
    {
     "name": "stdout",
     "output_type": "stream",
     "text": [
      "1/1 [==============================] - 0s 31ms/step\n"
     ]
    }
   ],
   "source": [
    "tf_predicted = model.predict(X_test_scaled)"
   ]
  },
  {
   "cell_type": "code",
   "execution_count": 17,
   "id": "5cc70051",
   "metadata": {},
   "outputs": [
    {
     "data": {
      "text/html": [
       "<div>\n",
       "<style scoped>\n",
       "    .dataframe tbody tr th:only-of-type {\n",
       "        vertical-align: middle;\n",
       "    }\n",
       "\n",
       "    .dataframe tbody tr th {\n",
       "        vertical-align: top;\n",
       "    }\n",
       "\n",
       "    .dataframe thead th {\n",
       "        text-align: right;\n",
       "    }\n",
       "</style>\n",
       "<table border=\"1\" class=\"dataframe\">\n",
       "  <thead>\n",
       "    <tr style=\"text-align: right;\">\n",
       "      <th></th>\n",
       "      <th>age</th>\n",
       "      <th>affordibility</th>\n",
       "      <th>actual</th>\n",
       "      <th>scratch prediction</th>\n",
       "      <th>tensorflow prediction</th>\n",
       "    </tr>\n",
       "  </thead>\n",
       "  <tbody>\n",
       "    <tr>\n",
       "      <th>2</th>\n",
       "      <td>47</td>\n",
       "      <td>1</td>\n",
       "      <td>1</td>\n",
       "      <td>0.705020</td>\n",
       "      <td>0.705485</td>\n",
       "    </tr>\n",
       "    <tr>\n",
       "      <th>10</th>\n",
       "      <td>18</td>\n",
       "      <td>1</td>\n",
       "      <td>0</td>\n",
       "      <td>0.355836</td>\n",
       "      <td>0.355696</td>\n",
       "    </tr>\n",
       "    <tr>\n",
       "      <th>21</th>\n",
       "      <td>26</td>\n",
       "      <td>0</td>\n",
       "      <td>0</td>\n",
       "      <td>0.161599</td>\n",
       "      <td>0.168278</td>\n",
       "    </tr>\n",
       "    <tr>\n",
       "      <th>11</th>\n",
       "      <td>28</td>\n",
       "      <td>1</td>\n",
       "      <td>0</td>\n",
       "      <td>0.477919</td>\n",
       "      <td>0.478012</td>\n",
       "    </tr>\n",
       "    <tr>\n",
       "      <th>14</th>\n",
       "      <td>49</td>\n",
       "      <td>1</td>\n",
       "      <td>1</td>\n",
       "      <td>0.725586</td>\n",
       "      <td>0.726070</td>\n",
       "    </tr>\n",
       "    <tr>\n",
       "      <th>9</th>\n",
       "      <td>61</td>\n",
       "      <td>1</td>\n",
       "      <td>1</td>\n",
       "      <td>0.828987</td>\n",
       "      <td>0.829498</td>\n",
       "    </tr>\n",
       "  </tbody>\n",
       "</table>\n",
       "</div>"
      ],
      "text/plain": [
       "    age  affordibility  actual  scratch prediction  tensorflow prediction\n",
       "2    47              1       1            0.705020               0.705485\n",
       "10   18              1       0            0.355836               0.355696\n",
       "21   26              0       0            0.161599               0.168278\n",
       "11   28              1       0            0.477919               0.478012\n",
       "14   49              1       1            0.725586               0.726070\n",
       "9    61              1       1            0.828987               0.829498"
      ]
     },
     "execution_count": 17,
     "metadata": {},
     "output_type": "execute_result"
    }
   ],
   "source": [
    "predictions = X_test.copy()\n",
    "predictions['actual'] = y_test\n",
    "predictions['scratch prediction'] = scratch_predicted\n",
    "predictions['tensorflow prediction'] = tf_predicted\n",
    "predictions"
   ]
  },
  {
   "cell_type": "markdown",
   "id": "0fd9c2a1",
   "metadata": {},
   "source": [
    "### Gradient Descent Algorithm"
   ]
  },
  {
   "cell_type": "markdown",
   "id": "a32ba895",
   "metadata": {},
   "source": [
    "$$\n",
    "\\textbf{Randomly assigned: } \\\\\n",
    "r = 0.5, w_1 = 1, w_2 = 1, b = 0 \\qquad \\textit{learning rate, weight 1, weight 2, bias}\n",
    "\\\\~\\\\\n",
    "\\textbf{Given: } \\\\\n",
    "x_1 = \\begin{bmatrix} ... \\end{bmatrix}, x_2 = \\begin{bmatrix} ... \\end{bmatrix} \\\\ \n",
    "y = \\begin{bmatrix} ... \\end{bmatrix} \\\\\n",
    "n \\qquad \\textit{Number of samples}\n",
    "\\\\~\\\\\n",
    "\\textbf{An epoch: } \\\\\n",
    "w\\Sigma = w_1 \\cdot x_1 + w_2 \\cdot x_2 + bias \\\\\n",
    "\\hat{y} = \\sigma(w\\Sigma) \\qquad \\textit{Activation function} \\\\\n",
    "loss = logLoss(y, \\hat{y}) \\qquad \\textit{Loss function} \\\\\n",
    "\\\\~\\\\\n",
    "\\textbf{Derivatives:} \\\\\n",
    "\\frac{\\partial}{\\partial w_1} = \\frac{x_1^T \\cdot (\\hat{y} - y)}{n} \\\\\n",
    "\\frac{\\partial}{\\partial w_2} = \\frac{x_2^T \\cdot (\\hat{y} - y)}{n} \\\\\n",
    "\\frac{\\partial}{\\partial b} = \\mu(\\hat{y} - y) \\qquad \\textit{Mean function} \\\\~\\\\\n",
    "\\textbf{Reassign values: } \\\\\n",
    "w_1 = w_1 - r \\cdot \\frac{\\partial}{\\partial w_1} \\\\\n",
    "w_2 = w_2 - r \\cdot \\frac{\\partial}{\\partial w_2} \\\\\n",
    "b = b - r \\cdot \\frac{\\partial}{\\partial b}\n",
    "$$"
   ]
  }
 ],
 "metadata": {
  "kernelspec": {
   "display_name": "Python 3 (ipykernel)",
   "language": "python",
   "name": "python3"
  },
  "language_info": {
   "codemirror_mode": {
    "name": "ipython",
    "version": 3
   },
   "file_extension": ".py",
   "mimetype": "text/x-python",
   "name": "python",
   "nbconvert_exporter": "python",
   "pygments_lexer": "ipython3",
   "version": "3.9.13"
  }
 },
 "nbformat": 4,
 "nbformat_minor": 5
}
